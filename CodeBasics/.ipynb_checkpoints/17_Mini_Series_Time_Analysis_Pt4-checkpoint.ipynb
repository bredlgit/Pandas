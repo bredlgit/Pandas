{
 "cells": [
  {
   "cell_type": "markdown",
   "metadata": {},
   "source": [
    "## 17 Time Analysis Mini Series Pt 4 - to_datetime\n",
    "Time series analysis is very important in financial data analysis space. Pandas has in built support of time series functionality that makes analyzing time serieses extremely easy and efficient. In this tutorial we will go over to_datetime function that can convert date time string into datetime object or DatetimeIndex. We will also see how to handle invalid datetime strings, different dateformats etc.<br>\n",
    "One of the most common problems in data analysis is the lack of uniformity in the structure of input data eg think of how many ways that you can write a date. When processing data, it can come in any of these formats. The challenge for you is to convert it to a common format as a dtaetime datatype.<br><br>\n",
    "We are going to look at two datetime functions to see how we can perform this conversion..."
   ]
  },
  {
   "cell_type": "code",
   "execution_count": 1,
   "metadata": {},
   "outputs": [
    {
     "data": {
      "text/plain": [
       "DatetimeIndex(['2017-01-05', '2017-01-05', '2017-01-05', '2017-01-05',\n",
       "               '2017-01-05', '2017-01-05'],\n",
       "              dtype='datetime64[ns]', freq=None)"
      ]
     },
     "execution_count": 1,
     "metadata": {},
     "output_type": "execute_result"
    }
   ],
   "source": [
    "import pandas as pd\n",
    "dates = ['2017-01-05', 'Jan 5, 2017', '01/05/2017', '2017.01.05', '2017/01/05','20170105']\n",
    "pd.to_datetime(dates)"
   ]
  },
  {
   "cell_type": "markdown",
   "metadata": {},
   "source": [
    "We see that to_datetime was successfully able to convert all these different date formats into one single format ready for our df.<br><br>\n",
    "Not only this but the to_datetime function can handle time as well..."
   ]
  },
  {
   "cell_type": "code",
   "execution_count": 3,
   "metadata": {},
   "outputs": [
    {
     "data": {
      "text/plain": [
       "DatetimeIndex(['2017-01-05 14:30:00', '2017-01-05 14:30:00',\n",
       "               '2017-01-05 00:00:00', '2017-01-05 00:00:00',\n",
       "               '2017-01-05 00:00:00', '2017-01-05 00:00:00'],\n",
       "              dtype='datetime64[ns]', freq=None)"
      ]
     },
     "execution_count": 3,
     "metadata": {},
     "output_type": "execute_result"
    }
   ],
   "source": [
    "dates = ['2017-01-05 2:30:00 PM', 'Jan 5, 2017 14:30:00', '01/05/2017', '2017.01.05', '2017/01/05','20170105']\n",
    "pd.to_datetime(dates)"
   ]
  },
  {
   "cell_type": "markdown",
   "metadata": {},
   "source": [
    "**Note:** While it handles these time formats without a problem, it does not handle the ones with just a dot rather than a colon<br><br>\n",
    "**Handling US date formats**<br>\n",
    "By default pandas handles dates as per the US format ie MM/DD/YYYY, whereas in the UK, we like to use DD/MM/YYYY. This means that we, as non-US users, can get some rather unexpected results when dealing with time in Pandas..."
   ]
  },
  {
   "cell_type": "code",
   "execution_count": 6,
   "metadata": {},
   "outputs": [
    {
     "data": {
      "text/plain": [
       "Timestamp('2017-01-12 00:00:00')"
      ]
     },
     "execution_count": 6,
     "metadata": {},
     "output_type": "execute_result"
    }
   ],
   "source": [
    "pd.to_datetime('01-12-2017')"
   ]
  },
  {
   "cell_type": "markdown",
   "metadata": {},
   "source": [
    "Now we specified the 1st December 2017 but Pandas has returned the, what looks like, the 12 January 2017. You can see how this might cause some issues. Fortunately, Pandas does have an easy way to deal with this..."
   ]
  },
  {
   "cell_type": "code",
   "execution_count": 8,
   "metadata": {},
   "outputs": [
    {
     "data": {
      "text/plain": [
       "Timestamp('2017-12-01 00:00:00')"
      ]
     },
     "execution_count": 8,
     "metadata": {},
     "output_type": "execute_result"
    }
   ],
   "source": [
    "pd.to_datetime('01-12-2017', dayfirst = True)"
   ]
  },
  {
   "cell_type": "markdown",
   "metadata": {},
   "source": [
    "Now the 1st December 2017 looks the same in any format.<br><br>\n",
    "**Custom date time format**<br>\n",
    "If your date looks like this...2017\\$01\\$05, and I do not know why it ever would, trying to execute this in Pandas will give you an error...loads of them. However, you can tell Pandas how to deal with this and it will parse the date correctly..."
   ]
  },
  {
   "cell_type": "code",
   "execution_count": 10,
   "metadata": {},
   "outputs": [
    {
     "data": {
      "text/plain": [
       "Timestamp('2017-01-05 00:00:00')"
      ]
     },
     "execution_count": 10,
     "metadata": {},
     "output_type": "execute_result"
    }
   ],
   "source": [
    "pd.to_datetime('05$01$2017', format='%d$%m$%Y')\n",
    "#Here we are telling Pandas that the first element is the day - %d\n",
    "#$ - Which inexplicably is your separator\n",
    "#Then the month - %m\n",
    "#Finally, the year - %Y\n",
    "#This is something that we are familiar with from BASH"
   ]
  },
  {
   "cell_type": "markdown",
   "metadata": {},
   "source": [
    "We can see that pandas now recognises this as a timedate datatype. You could use absolutely anything for the separator. much like a CSV file, as long as you  'train' Pandas as to what it is and what we are doing.<br>\n",
    "You can even mix them up..."
   ]
  },
  {
   "cell_type": "code",
   "execution_count": 11,
   "metadata": {},
   "outputs": [
    {
     "data": {
      "text/plain": [
       "Timestamp('2017-01-05 00:00:00')"
      ]
     },
     "execution_count": 11,
     "metadata": {},
     "output_type": "execute_result"
    }
   ],
   "source": [
    "pd.to_datetime('05$01#2017', format='%d$%m#%Y')"
   ]
  },
  {
   "cell_type": "markdown",
   "metadata": {},
   "source": [
    "datetime still comes back with a valid datetime object<br><br>\n",
    "**Dealing with Errors/Exceptions**<br>\n",
    "Going back to our original list of dates above, if we supply it with something that is not a date or a time, we get a ValueError exception thrown. This error will stop anything from being processed. This is because, by default, the datetime function has an argument set *<font color = blue>errors = raise</font>*. If however, we pass it the error argument and change the value to ignore then it will totally ignore the error but it will not try to convert the invalid element."
   ]
  },
  {
   "cell_type": "code",
   "execution_count": 15,
   "metadata": {},
   "outputs": [
    {
     "data": {
      "text/plain": [
       "array(['2017-01-05', 'Jan 5, 2017', '01/05/2017', '2017.01.05',\n",
       "       '2017/01/05', 'abc'], dtype=object)"
      ]
     },
     "execution_count": 15,
     "metadata": {},
     "output_type": "execute_result"
    }
   ],
   "source": [
    "dates = ['2017-01-05', 'Jan 5, 2017', '01/05/2017', '2017.01.05', '2017/01/05','abc']\n",
    "pd.to_datetime(dates, errors = 'ignore')"
   ]
  },
  {
   "cell_type": "markdown",
   "metadata": {},
   "source": [
    "My 'abc' string does still get a mention but Pandas has not even tried to do anything with it.<br><br>\n",
    "**What about my conversion?**<br>\n",
    "If you want Pandas to ignore just the invalid element but still perform the conversion on the valid elements then you have to use the coerce argument to errors..."
   ]
  },
  {
   "cell_type": "code",
   "execution_count": 16,
   "metadata": {},
   "outputs": [
    {
     "data": {
      "text/plain": [
       "DatetimeIndex(['2017-01-05', '2017-01-05', '2017-01-05', '2017-01-05',\n",
       "               '2017-01-05', 'NaT'],\n",
       "              dtype='datetime64[ns]', freq=None)"
      ]
     },
     "execution_count": 16,
     "metadata": {},
     "output_type": "execute_result"
    }
   ],
   "source": [
    "dates = ['2017-01-05', 'Jan 5, 2017', '01/05/2017', '2017.01.05', '2017/01/05','abc']\n",
    "pd.to_datetime(dates, errors = 'coerce')"
   ]
  },
  {
   "cell_type": "markdown",
   "metadata": {},
   "source": [
    "Here Pandas has converted all the dates into a datetime objects but the the invalid string is now NaT or Not a Timestamp.<br><br>\n",
    "**Dealing with UNIX Epoch format**<br>\n",
    "Unix/Epoch time is the number of seconds that have passed since 1 Jan 1970! We are going to save our epoch time (1527796896) and save it in a variable and pass that to to_datetime and see what we get..."
   ]
  },
  {
   "cell_type": "code",
   "execution_count": 18,
   "metadata": {},
   "outputs": [
    {
     "data": {
      "text/plain": [
       "Timestamp('2018-05-31 20:01:36')"
      ]
     },
     "execution_count": 18,
     "metadata": {},
     "output_type": "execute_result"
    }
   ],
   "source": [
    "epoch = 1527796896\n",
    "pd.to_datetime(epoch, unit ='s') # by default, Pandas delas in nanoseconds but we are supplying seconds"
   ]
  },
  {
   "cell_type": "markdown",
   "metadata": {},
   "source": [
    "Once we told Pandas that we were going to supply it seconds rather than nanoseconds, it was able to convert our Epoch time without any issues...except that it is an hour behind (UTC time I'm guessing).<br><br>\n",
    "**Turning our Epoch time to an index**"
   ]
  },
  {
   "cell_type": "code",
   "execution_count": 19,
   "metadata": {},
   "outputs": [
    {
     "data": {
      "text/plain": [
       "DatetimeIndex(['2018-05-31 20:01:36'], dtype='datetime64[ns]', freq=None)"
      ]
     },
     "execution_count": 19,
     "metadata": {},
     "output_type": "execute_result"
    }
   ],
   "source": [
    "dt = pd.to_datetime([epoch], unit='s') # Converting to a datetime index by supplying it as an array\n",
    "dt"
   ]
  },
  {
   "cell_type": "code",
   "execution_count": 20,
   "metadata": {},
   "outputs": [
    {
     "data": {
      "text/plain": [
       "array([1527796896000000000], dtype=int64)"
      ]
     },
     "execution_count": 20,
     "metadata": {},
     "output_type": "execute_result"
    }
   ],
   "source": [
    "dt.view('int64') # Converts it back to Epoch. Extra zeros are for the nanoseconds format"
   ]
  }
 ],
 "metadata": {
  "kernelspec": {
   "display_name": "Python 3",
   "language": "python",
   "name": "python3"
  },
  "language_info": {
   "codemirror_mode": {
    "name": "ipython",
    "version": 3
   },
   "file_extension": ".py",
   "mimetype": "text/x-python",
   "name": "python",
   "nbconvert_exporter": "python",
   "pygments_lexer": "ipython3",
   "version": "3.6.5"
  }
 },
 "nbformat": 4,
 "nbformat_minor": 2
}
