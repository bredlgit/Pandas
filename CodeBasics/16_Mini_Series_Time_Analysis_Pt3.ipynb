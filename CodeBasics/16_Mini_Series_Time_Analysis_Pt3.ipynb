{
 "cells": [
  {
   "cell_type": "markdown",
   "metadata": {},
   "source": [
    "## 16 Time Analysis Mini Series Pt3 - Holidays\n",
    "Time series analysis is very important in financial data analysis space. Pandas has in built support of time series functionality that makes analyzing time serieses extremely easy and efficient. In this tutorial we will cover how to handle holidays in time series analysis. Using CustomBusinessDay and AbstractHolidayCalendar you can create custom holiday calendar. USFederalHolidayCalendar is ready made calendar available in pandas library that serves as an example for those who want to create their own custom calendar."
   ]
  },
  {
   "cell_type": "code",
   "execution_count": 6,
   "metadata": {},
   "outputs": [
    {
     "data": {
      "text/html": [
       "<div>\n",
       "<style scoped>\n",
       "    .dataframe tbody tr th:only-of-type {\n",
       "        vertical-align: middle;\n",
       "    }\n",
       "\n",
       "    .dataframe tbody tr th {\n",
       "        vertical-align: top;\n",
       "    }\n",
       "\n",
       "    .dataframe thead th {\n",
       "        text-align: right;\n",
       "    }\n",
       "</style>\n",
       "<table border=\"1\" class=\"dataframe\">\n",
       "  <thead>\n",
       "    <tr style=\"text-align: right;\">\n",
       "      <th></th>\n",
       "      <th>Open</th>\n",
       "      <th>High</th>\n",
       "      <th>Low</th>\n",
       "      <th>Close</th>\n",
       "      <th>Volume</th>\n",
       "    </tr>\n",
       "  </thead>\n",
       "  <tbody>\n",
       "    <tr>\n",
       "      <th>0</th>\n",
       "      <td>144.88</td>\n",
       "      <td>145.30</td>\n",
       "      <td>143.10</td>\n",
       "      <td>143.50</td>\n",
       "      <td>14277848</td>\n",
       "    </tr>\n",
       "    <tr>\n",
       "      <th>1</th>\n",
       "      <td>143.69</td>\n",
       "      <td>144.79</td>\n",
       "      <td>142.72</td>\n",
       "      <td>144.09</td>\n",
       "      <td>21569557</td>\n",
       "    </tr>\n",
       "    <tr>\n",
       "      <th>2</th>\n",
       "      <td>143.02</td>\n",
       "      <td>143.50</td>\n",
       "      <td>142.41</td>\n",
       "      <td>142.73</td>\n",
       "      <td>24128782</td>\n",
       "    </tr>\n",
       "    <tr>\n",
       "      <th>3</th>\n",
       "      <td>142.90</td>\n",
       "      <td>144.75</td>\n",
       "      <td>142.90</td>\n",
       "      <td>144.18</td>\n",
       "      <td>19201712</td>\n",
       "    </tr>\n",
       "    <tr>\n",
       "      <th>4</th>\n",
       "      <td>144.11</td>\n",
       "      <td>145.95</td>\n",
       "      <td>143.37</td>\n",
       "      <td>145.06</td>\n",
       "      <td>21090636</td>\n",
       "    </tr>\n",
       "    <tr>\n",
       "      <th>5</th>\n",
       "      <td>144.73</td>\n",
       "      <td>145.85</td>\n",
       "      <td>144.38</td>\n",
       "      <td>145.53</td>\n",
       "      <td>19781836</td>\n",
       "    </tr>\n",
       "    <tr>\n",
       "      <th>6</th>\n",
       "      <td>145.87</td>\n",
       "      <td>146.18</td>\n",
       "      <td>144.82</td>\n",
       "      <td>145.74</td>\n",
       "      <td>24884478</td>\n",
       "    </tr>\n",
       "    <tr>\n",
       "      <th>7</th>\n",
       "      <td>145.50</td>\n",
       "      <td>148.49</td>\n",
       "      <td>145.44</td>\n",
       "      <td>147.77</td>\n",
       "      <td>25199373</td>\n",
       "    </tr>\n",
       "    <tr>\n",
       "      <th>8</th>\n",
       "      <td>147.97</td>\n",
       "      <td>149.33</td>\n",
       "      <td>147.33</td>\n",
       "      <td>149.04</td>\n",
       "      <td>20132061</td>\n",
       "    </tr>\n",
       "    <tr>\n",
       "      <th>9</th>\n",
       "      <td>148.82</td>\n",
       "      <td>150.90</td>\n",
       "      <td>148.57</td>\n",
       "      <td>149.56</td>\n",
       "      <td>23793456</td>\n",
       "    </tr>\n",
       "    <tr>\n",
       "      <th>10</th>\n",
       "      <td>149.20</td>\n",
       "      <td>150.13</td>\n",
       "      <td>148.67</td>\n",
       "      <td>150.08</td>\n",
       "      <td>17868792</td>\n",
       "    </tr>\n",
       "    <tr>\n",
       "      <th>11</th>\n",
       "      <td>150.48</td>\n",
       "      <td>151.42</td>\n",
       "      <td>149.95</td>\n",
       "      <td>151.02</td>\n",
       "      <td>20922969</td>\n",
       "    </tr>\n",
       "    <tr>\n",
       "      <th>12</th>\n",
       "      <td>151.50</td>\n",
       "      <td>151.74</td>\n",
       "      <td>150.19</td>\n",
       "      <td>150.34</td>\n",
       "      <td>17243748</td>\n",
       "    </tr>\n",
       "    <tr>\n",
       "      <th>13</th>\n",
       "      <td>149.99</td>\n",
       "      <td>150.44</td>\n",
       "      <td>148.88</td>\n",
       "      <td>150.27</td>\n",
       "      <td>26252630</td>\n",
       "    </tr>\n",
       "  </tbody>\n",
       "</table>\n",
       "</div>"
      ],
      "text/plain": [
       "      Open    High     Low   Close    Volume\n",
       "0   144.88  145.30  143.10  143.50  14277848\n",
       "1   143.69  144.79  142.72  144.09  21569557\n",
       "2   143.02  143.50  142.41  142.73  24128782\n",
       "3   142.90  144.75  142.90  144.18  19201712\n",
       "4   144.11  145.95  143.37  145.06  21090636\n",
       "5   144.73  145.85  144.38  145.53  19781836\n",
       "6   145.87  146.18  144.82  145.74  24884478\n",
       "7   145.50  148.49  145.44  147.77  25199373\n",
       "8   147.97  149.33  147.33  149.04  20132061\n",
       "9   148.82  150.90  148.57  149.56  23793456\n",
       "10  149.20  150.13  148.67  150.08  17868792\n",
       "11  150.48  151.42  149.95  151.02  20922969\n",
       "12  151.50  151.74  150.19  150.34  17243748\n",
       "13  149.99  150.44  148.88  150.27  26252630"
      ]
     },
     "execution_count": 6,
     "metadata": {},
     "output_type": "execute_result"
    }
   ],
   "source": [
    "import pandas as pd\n",
    "aapl = pd.read_csv('D:\\\\Pandas\\\\CodeBasics\\\\datasets\\\\16aaplnodates.tsv', sep = '\\t')\n",
    "aapl "
   ]
  },
  {
   "cell_type": "markdown",
   "metadata": {},
   "source": [
    "Our df is fine except it has no dates which renders the data meaningless. I do know that it goes from 1/7/2017 to 21/7/2017. So we should be able to build an date range for it and insert that into our df. We can make a date range for our df by..."
   ]
  },
  {
   "cell_type": "code",
   "execution_count": 7,
   "metadata": {},
   "outputs": [
    {
     "data": {
      "text/plain": [
       "DatetimeIndex(['2017-07-03', '2017-07-04', '2017-07-05', '2017-07-06',\n",
       "               '2017-07-07', '2017-07-10', '2017-07-11', '2017-07-12',\n",
       "               '2017-07-13', '2017-07-14', '2017-07-17', '2017-07-18',\n",
       "               '2017-07-19', '2017-07-20', '2017-07-21'],\n",
       "              dtype='datetime64[ns]', freq='B')"
      ]
     },
     "execution_count": 7,
     "metadata": {},
     "output_type": "execute_result"
    }
   ],
   "source": [
    "rng = pd.date_range(start = \"7/1/2017\", end = \"7/21/2017\", freq = 'B')\n",
    "rng # This uses the business frequency which means that it ignores weekends when there is no trading"
   ]
  },
  {
   "cell_type": "markdown",
   "metadata": {},
   "source": [
    "We notice one issue however, we have the 4th July 2017 in our range and, as this is a holiday in the USA and stocks are not traded, it renders our range a bit useless. We need something better. We want to exclude all US holidays and 'B' doesn't work. In fact, there is no predefined frequency which takes into account the holidays.\n",
    "<br>We therefore have to use the US holiday calendar for this. The two classes for the US federal holidays, that need to be imported into Python, are..."
   ]
  },
  {
   "cell_type": "code",
   "execution_count": 8,
   "metadata": {},
   "outputs": [],
   "source": [
    "from pandas.tseries.holiday import USFederalHolidayCalendar\n",
    "from pandas.tseries.offsets import CustomBusinessDay"
   ]
  },
  {
   "cell_type": "markdown",
   "metadata": {},
   "source": [
    "**Creating a custom business day**"
   ]
  },
  {
   "cell_type": "code",
   "execution_count": 9,
   "metadata": {},
   "outputs": [
    {
     "data": {
      "text/plain": [
       "<CustomBusinessDay>"
      ]
     },
     "execution_count": 9,
     "metadata": {},
     "output_type": "execute_result"
    }
   ],
   "source": [
    "usb = CustomBusinessDay(calendar=USFederalHolidayCalendar())\n",
    "usb"
   ]
  },
  {
   "cell_type": "markdown",
   "metadata": {},
   "source": [
    "We have to create an instance of the class CustomBusinessDay and supply the calendar to be the USFederalHolidayCalendar.\n",
    "<br>We can then pass that as an argument in our freq argument, ie..."
   ]
  },
  {
   "cell_type": "code",
   "execution_count": 10,
   "metadata": {},
   "outputs": [
    {
     "data": {
      "text/plain": [
       "DatetimeIndex(['2017-07-03', '2017-07-05', '2017-07-06', '2017-07-07',\n",
       "               '2017-07-10', '2017-07-11', '2017-07-12', '2017-07-13',\n",
       "               '2017-07-14', '2017-07-17', '2017-07-18', '2017-07-19',\n",
       "               '2017-07-20', '2017-07-21'],\n",
       "              dtype='datetime64[ns]', freq='C')"
      ]
     },
     "execution_count": 10,
     "metadata": {},
     "output_type": "execute_result"
    }
   ],
   "source": [
    "pd.date_range(start = \"7/1/2017\", end = \"7/21/2017\", freq = usb)"
   ]
  },
  {
   "cell_type": "markdown",
   "metadata": {},
   "source": [
    "We see that now the 4th July is excluded as will all US holidays including weekends. We can now use this as an index on our df..."
   ]
  },
  {
   "cell_type": "code",
   "execution_count": 11,
   "metadata": {},
   "outputs": [
    {
     "data": {
      "text/html": [
       "<div>\n",
       "<style scoped>\n",
       "    .dataframe tbody tr th:only-of-type {\n",
       "        vertical-align: middle;\n",
       "    }\n",
       "\n",
       "    .dataframe tbody tr th {\n",
       "        vertical-align: top;\n",
       "    }\n",
       "\n",
       "    .dataframe thead th {\n",
       "        text-align: right;\n",
       "    }\n",
       "</style>\n",
       "<table border=\"1\" class=\"dataframe\">\n",
       "  <thead>\n",
       "    <tr style=\"text-align: right;\">\n",
       "      <th></th>\n",
       "      <th>Open</th>\n",
       "      <th>High</th>\n",
       "      <th>Low</th>\n",
       "      <th>Close</th>\n",
       "      <th>Volume</th>\n",
       "    </tr>\n",
       "  </thead>\n",
       "  <tbody>\n",
       "    <tr>\n",
       "      <th>2017-07-03</th>\n",
       "      <td>144.88</td>\n",
       "      <td>145.30</td>\n",
       "      <td>143.10</td>\n",
       "      <td>143.50</td>\n",
       "      <td>14277848</td>\n",
       "    </tr>\n",
       "    <tr>\n",
       "      <th>2017-07-05</th>\n",
       "      <td>143.69</td>\n",
       "      <td>144.79</td>\n",
       "      <td>142.72</td>\n",
       "      <td>144.09</td>\n",
       "      <td>21569557</td>\n",
       "    </tr>\n",
       "    <tr>\n",
       "      <th>2017-07-06</th>\n",
       "      <td>143.02</td>\n",
       "      <td>143.50</td>\n",
       "      <td>142.41</td>\n",
       "      <td>142.73</td>\n",
       "      <td>24128782</td>\n",
       "    </tr>\n",
       "    <tr>\n",
       "      <th>2017-07-07</th>\n",
       "      <td>142.90</td>\n",
       "      <td>144.75</td>\n",
       "      <td>142.90</td>\n",
       "      <td>144.18</td>\n",
       "      <td>19201712</td>\n",
       "    </tr>\n",
       "    <tr>\n",
       "      <th>2017-07-10</th>\n",
       "      <td>144.11</td>\n",
       "      <td>145.95</td>\n",
       "      <td>143.37</td>\n",
       "      <td>145.06</td>\n",
       "      <td>21090636</td>\n",
       "    </tr>\n",
       "  </tbody>\n",
       "</table>\n",
       "</div>"
      ],
      "text/plain": [
       "              Open    High     Low   Close    Volume\n",
       "2017-07-03  144.88  145.30  143.10  143.50  14277848\n",
       "2017-07-05  143.69  144.79  142.72  144.09  21569557\n",
       "2017-07-06  143.02  143.50  142.41  142.73  24128782\n",
       "2017-07-07  142.90  144.75  142.90  144.18  19201712\n",
       "2017-07-10  144.11  145.95  143.37  145.06  21090636"
      ]
     },
     "execution_count": 11,
     "metadata": {},
     "output_type": "execute_result"
    }
   ],
   "source": [
    "rng = pd.date_range(start = \"7/1/2017\", end = \"7/21/2017\", freq = usb)\n",
    "aapl.set_index(rng, inplace = True)\n",
    "aapl.head()"
   ]
  },
  {
   "cell_type": "markdown",
   "metadata": {},
   "source": [
    "**Note:** While there is a US holiday class availabe, there are no other such classes available for other countries. If you would like one for your own country, you should be using the AbstractHolidayCalendar class, at the Pandas Github page (https://github.com/pandas-dev/pandas/blob/master/pandas/tseries/holiday.py) and make your own...\n",
    "\n",
    "**Making our own holiday custom class - AbstractHolidayCalendar()**\n",
    "<br>First we copy the details of the UD Federal Holiday Calendar class...<br>class USFederalHolidayCalendar(AbstractHolidayCalendar):<br>\n",
    "    \"\"\"\n",
    "    US Federal Government Holiday Calendar based on rules specified by:\n",
    "    https://www.opm.gov/policy-data-oversight/snow-dismissal-procedures/federal-holidays/\n",
    "    \"\"\"<br>\n",
    "    rules = [<br>\n",
    "        Holiday('New Years Day', month=1, day=1, observance=nearest_workday),<br>\n",
    "        USMartinLutherKingJr,<br>\n",
    "        USPresidentsDay,<br>\n",
    "        USMemorialDay,<br>\n",
    "        Holiday('July 4th', month=7, day=4, observance=nearest_workday),<br>\n",
    "        USLaborDay,<br>\n",
    "        USColumbusDay,<br>\n",
    "        Holiday('Veterans Day', month=11, day=11, observance=nearest_workday),<br>\n",
    "        USThanksgivingDay,<br>\n",
    "        Holiday('Christmas', month=12, day=25, observance=nearest_workday)<br>\n",
    "    ]<br>\n",
    "We want to remove everything except one to help us with the syntax<br>\n",
    "###### Let's build one for our birthday**<br>\n",
    "*<font color=blue> from pandas.tseries.holiday import AbstractHolidayCalendar, nearest_workday, Holiday</font>* - We need to import these <br>\n",
    "*<font color=blue>class myBirthdayCalendar(AbstractHolidayCalendar):</font>*<br>\n",
    "*<font color=blue>'''This is a custom holiday calendar to include my birthday'''</font>*<br>\n",
    "*<font color=blue>rules = [</font>*<br>\n",
    "        *<font color=blue>Holiday(\"Roly's Birthday\", month=2, day=4, observance=nearest_workday)</font>*<br>\n",
    "*]*<br>\n",
    "<br>**We are now going to create our own frequency**<br>\n",
    "*<font color=blue>myc = CustomBusinessDay(calendar = myBirthdayCalendar())</font>*<br>\n",
    "*<font color=blue>pd.date_range('2/1/2017', '2/28/2017', freq=myc)</font>* - When we execute this, the 4/2/2017 should be missing from our date range<br>\n",
    "**Dealing with weekends...again**<br>\n",
    "When a holiday falls on a weekend it is often observed on the following weekday. The way we deal with that is by specifying the *<font color=blue>observance=nearest_workday</font>* argument.<br>\n",
    "**Note:** Becareful with this argument as it literally does pick the nearest week day ie if the holiday falls on a Saturday, it will deem to the observance to be on a Friday."
   ]
  },
  {
   "cell_type": "markdown",
   "metadata": {},
   "source": [
    "###### The case of Eqypt\n",
    "The case of Egypt is special because their weekend is Friday and Saturday and Sunday is a normal working day.<br>To deal with this, we again look to CustomBusinessDay class for help. The weekmask argument species the days of the week, by default they are Mon-Fri but this can be modified to whatever values you want..."
   ]
  },
  {
   "cell_type": "code",
   "execution_count": 13,
   "metadata": {},
   "outputs": [
    {
     "data": {
      "text/plain": [
       "DatetimeIndex(['2018-02-01', '2018-02-04', '2018-02-05', '2018-02-06',\n",
       "               '2018-02-07', '2018-02-08', '2018-02-11', '2018-02-12',\n",
       "               '2018-02-13', '2018-02-14', '2018-02-15', '2018-02-18',\n",
       "               '2018-02-19', '2018-02-20', '2018-02-21', '2018-02-22',\n",
       "               '2018-02-25', '2018-02-26', '2018-02-27', '2018-02-28'],\n",
       "              dtype='datetime64[ns]', freq='C')"
      ]
     },
     "execution_count": 13,
     "metadata": {},
     "output_type": "execute_result"
    }
   ],
   "source": [
    "CustomBusinessDay(weekmask = 'Mon Tue Wed Thu Fri') # This is the default\n",
    "egypt = CustomBusinessDay(weekmask = 'Sun Mon Tue Wed Thu')\n",
    "pd.date_range('2/1/2018', '2/28/2018', freq=egypt) # We can now use it as our frequency argument"
   ]
  },
  {
   "cell_type": "markdown",
   "metadata": {},
   "source": [
    "**Holidays in Egypt**<br>\n",
    "To take into account the holidays in Egypt, which will be diufferent from the US, you have to provide them as an argument to the CustomBusinessDay..."
   ]
  },
  {
   "cell_type": "code",
   "execution_count": 15,
   "metadata": {},
   "outputs": [
    {
     "data": {
      "text/plain": [
       "DatetimeIndex(['2018-02-01', '2018-02-05', '2018-02-06', '2018-02-07',\n",
       "               '2018-02-08', '2018-02-11', '2018-02-12', '2018-02-13',\n",
       "               '2018-02-14', '2018-02-15', '2018-02-18', '2018-02-19',\n",
       "               '2018-02-20', '2018-02-21', '2018-02-22', '2018-02-25',\n",
       "               '2018-02-26', '2018-02-27', '2018-02-28'],\n",
       "              dtype='datetime64[ns]', freq='C')"
      ]
     },
     "execution_count": 15,
     "metadata": {},
     "output_type": "execute_result"
    }
   ],
   "source": [
    "egypt = CustomBusinessDay(weekmask = 'Sun Mon Tue Wed Thu', holidays = ['2018-02-04'])\n",
    "pd.date_range('2/1/2018', '2/28/2018', freq=egypt)"
   ]
  },
  {
   "cell_type": "markdown",
   "metadata": {},
   "source": [
    "Now 4th February 2018 is missing from the date range as it is now officially a holiday in Egypt. As the square brackets denote, we can pass a list of dates for all hjolidays to exclude them from the business days"
   ]
  }
 ],
 "metadata": {
  "kernelspec": {
   "display_name": "Python 3",
   "language": "python",
   "name": "python3"
  },
  "language_info": {
   "codemirror_mode": {
    "name": "ipython",
    "version": 3
   },
   "file_extension": ".py",
   "mimetype": "text/x-python",
   "name": "python",
   "nbconvert_exporter": "python",
   "pygments_lexer": "ipython3",
   "version": "3.6.5"
  }
 },
 "nbformat": 4,
 "nbformat_minor": 2
}
